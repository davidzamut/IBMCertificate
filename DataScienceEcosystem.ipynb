{
  "nbformat": 4,
  "nbformat_minor": 0,
  "metadata": {
    "colab": {
      "provenance": []
    },
    "kernelspec": {
      "name": "python3",
      "display_name": "Python 3"
    },
    "language_info": {
      "name": "python"
    }
  },
  "cells": [
    {
      "cell_type": "markdown",
      "source": [
        "# Data Science Tools and Ecosystem"
      ],
      "metadata": {
        "id": "b5ymaPlv2U3A"
      }
    },
    {
      "cell_type": "markdown",
      "source": [
        "In this notebook, Data Science Tools and Ecosystem are summarized.\n",
        "\n"
      ],
      "metadata": {
        "id": "dZGZ_Fmj3PXY"
      }
    },
    {
      "cell_type": "code",
      "source": [
        "#Some of the popular languages that Data Scientists use are:\n",
        "\n",
        "my_ordered_list = {\"Python\", \"Scala\", \"Julia\"}\n",
        "print(my_ordered_list)\n",
        "\n"
      ],
      "metadata": {
        "colab": {
          "base_uri": "https://localhost:8080/"
        },
        "id": "3bF8L9K02ZXB",
        "outputId": "e95515f5-d78a-4d93-8c45-0ab02b242b8b"
      },
      "execution_count": 1,
      "outputs": [
        {
          "output_type": "stream",
          "name": "stdout",
          "text": [
            "{'Python', 'Julia', 'Scala'}\n"
          ]
        }
      ]
    },
    {
      "cell_type": "markdown",
      "source": [
        "# Some of the popular languages that Data Scientists use are:\n",
        "\n",
        "ordered list\n",
        "- PYTHON\n",
        "- SCALA\n",
        "- JULIA"
      ],
      "metadata": {
        "id": "Z3YMtTe9Y-9V"
      }
    },
    {
      "cell_type": "markdown",
      "source": [
        "# Below are a few examples of evaluating arithmetic expressions in Python"
      ],
      "metadata": {
        "id": "A0Hn0WxAbi0N"
      }
    },
    {
      "cell_type": "code",
      "source": [
        "#This a simple arithmetic expression to mutiply then add integers\n",
        "\n",
        "X = (3*4)+5\n",
        "print(X)"
      ],
      "metadata": {
        "colab": {
          "base_uri": "https://localhost:8080/"
        },
        "id": "2A1xbST1ZDEE",
        "outputId": "552d43dd-06b7-4046-ae7d-316bec034c7d"
      },
      "execution_count": 2,
      "outputs": [
        {
          "output_type": "stream",
          "name": "stdout",
          "text": [
            "17\n"
          ]
        }
      ]
    },
    {
      "cell_type": "code",
      "source": [
        "#This will convert 200 minutes to hours by diving by 60\n",
        "\n",
        "HtoM = 200/60\n",
        "print(HtoM)\n"
      ],
      "metadata": {
        "colab": {
          "base_uri": "https://localhost:8080/"
        },
        "id": "mKQiAG1dcKBR",
        "outputId": "84223622-0887-430a-bcab-3988cbd3d53f"
      },
      "execution_count": 3,
      "outputs": [
        {
          "output_type": "stream",
          "name": "stdout",
          "text": [
            "3.3333333333333335\n"
          ]
        }
      ]
    },
    {
      "cell_type": "markdown",
      "source": [
        "#Objectives:\n",
        "\n",
        "- learn arithmetic expressions\n",
        "- Practice how to code in python language\n",
        "- Produce relevant knowledge for the course\n",
        "- list relevant languages for Data Science\n",
        ""
      ],
      "metadata": {
        "id": "sR-WKqcwe0e3"
      }
    },
    {
      "cell_type": "code",
      "source": [],
      "metadata": {
        "id": "o4TzrmoAe6Yu"
      },
      "execution_count": 3,
      "outputs": []
    },
    {
      "cell_type": "markdown",
      "source": [
        "## David Zamudio\n",
        "Author"
      ],
      "metadata": {
        "id": "ogDLnAOUf5EI"
      }
    },
    {
      "cell_type": "code",
      "source": [],
      "metadata": {
        "id": "IBPOP2Irgc2f"
      },
      "execution_count": null,
      "outputs": []
    }
  ]
}